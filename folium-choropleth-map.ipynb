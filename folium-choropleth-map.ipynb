{
 "cells": [
  {
   "cell_type": "code",
   "execution_count": null,
   "metadata": {
    "collapsed": true
   },
   "outputs": [],
   "source": [
    "import requests as r\n",
    "import json\n",
    "import pandas as pd\n",
    "import folium"
   ]
  },
  {
   "cell_type": "markdown",
   "metadata": {},
   "source": [
    "### End Result and Approach\n",
    "I need to build a Choropleth map to show the distribution of data around southern California. \n",
    "\n",
    "Unsure of how a geo_json is structured. \n",
    "\n",
    "Model this work from this [Towards Data Science Article](https://towardsdatascience.com/visualizing-data-at-the-zip-code-level-with-folium-d07ac983db20) and the associated [GitHub repo](https://github.com/finnqiao/la_restaurant_inspection/blob/master/inspection_analysis.ipynb).\n",
    "\n",
    "With the data stored in `df`, I'll need to bring in the json file containing the boundries of the zip codes from the [LA Times](http://boundaries.latimes.com/set/zip-code-tabulation-areas-2012/). \n",
    "\n",
    "Here's a link to the [folium library](https://python-visualization.github.io/folium/quickstart.html).\n",
    "\n",
    "I also found another json file with the boundries of [zip codes](https://raw.githubusercontent.com/OpenDataDE/State-zip-code-GeoJSON/master/ca_california_zip_codes_geo.min.json)."
   ]
  },
  {
   "cell_type": "code",
   "execution_count": null,
   "metadata": {
    "collapsed": true
   },
   "outputs": [],
   "source": [
    "zip_data = 'zip-code-tabulation-areas-2012.geojson'\n",
    "\n",
    "#Prefer to use the zip data for the entire state of California.\n",
    "zip_data_2 = 'https://raw.githubusercontent.com/OpenDataDE/State-zip-code-GeoJSON/master/ca_california_zip_codes_geo.min.json'"
   ]
  },
  {
   "cell_type": "code",
   "execution_count": null,
   "metadata": {},
   "outputs": [],
   "source": [
    "zip_data_r = r.get(zip_data_2)\n",
    "zip_data_r"
   ]
  },
  {
   "cell_type": "code",
   "execution_count": null,
   "metadata": {},
   "outputs": [],
   "source": [
    "data_dict = {'zip_code': [90001, 90002, 90003, 90004, 90005, 90006, 91755],\n",
    "             'average_score': [93.987292, 94.570175, 92.843198, 92.673001, 91.307221, 92.586446, 99.492847],\n",
    "             'total_facilities': [276, 69, 276, 277, 302, 431, 512]}\n",
    "df = pd.DataFrame(data_dict)\n",
    "df"
   ]
  },
  {
   "cell_type": "code",
   "execution_count": null,
   "metadata": {},
   "outputs": [],
   "source": [
    "la_map = folium.Map(location = [34.0522, -118.2437], \n",
    "                    tiles=\"Mapbox Bright\",\n",
    "                    zoom_start = 9)\n",
    "la_map"
   ]
  },
  {
   "cell_type": "code",
   "execution_count": null,
   "metadata": {},
   "outputs": [],
   "source": [
    "#Adopted from here: https://python-visualization.github.io/folium/quickstart.html\n",
    "folium.Choropleth(\n",
    "    geo_data=zip_data,\n",
    "    name='choropleth',\n",
    "    data=df,\n",
    "    columns=['zip_code', 'total_facilities'],\n",
    "    key_on='feature.id', #Unsure of what this field is.\n",
    "    fill_color='YlGn',\n",
    "    fill_opacity=0.7,\n",
    "    line_opacity=0.2,\n",
    ").add_to(la_map)\n",
    "\n",
    "folium.LayerControl().add_to(la_map)\n",
    "\n",
    "la_map"
   ]
  },
  {
   "cell_type": "markdown",
   "metadata": {},
   "source": [
    "### Error\n",
    "\n",
    "```\n",
    "IOPub data rate exceeded.\n",
    "The notebook server will temporarily stop sending output\n",
    "to the client in order to avoid crashing it.\n",
    "To change this limit, set the config variable\n",
    "`--NotebookApp.iopub_data_rate_limit`.\n",
    "```\n",
    "\n",
    "Understand that this means I am hitting a rate limit with my notebook. Not sure what this limit is in response to. Is it related to the geo_json file?"
   ]
  },
  {
   "cell_type": "code",
   "execution_count": null,
   "metadata": {
    "collapsed": true
   },
   "outputs": [],
   "source": []
  }
 ],
 "metadata": {
  "kernelspec": {
   "display_name": "Python 3",
   "language": "python",
   "name": "python3"
  },
  "language_info": {
   "codemirror_mode": {
    "name": "ipython",
    "version": 3
   },
   "file_extension": ".py",
   "mimetype": "text/x-python",
   "name": "python",
   "nbconvert_exporter": "python",
   "pygments_lexer": "ipython3",
   "version": "3.6.3"
  }
 },
 "nbformat": 4,
 "nbformat_minor": 2
}
